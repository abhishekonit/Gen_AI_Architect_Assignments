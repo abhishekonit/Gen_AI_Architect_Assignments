{
 "cells": [
  {
   "cell_type": "markdown",
   "id": "c1a3d904",
   "metadata": {},
   "source": [
    "### Installing necessary libraries"
   ]
  },
  {
   "cell_type": "code",
   "execution_count": 60,
   "id": "8a32c96d",
   "metadata": {},
   "outputs": [
    {
     "name": "stderr",
     "output_type": "stream",
     "text": [
      "I0000 00:00:1760037263.803692    5763 fork_posix.cc:71] Other threads are currently calling into gRPC, skipping fork() handlers\n"
     ]
    },
    {
     "name": "stdout",
     "output_type": "stream",
     "text": [
      "\n",
      "\u001b[1m[\u001b[0m\u001b[34;49mnotice\u001b[0m\u001b[1;39;49m]\u001b[0m\u001b[39;49m A new release of pip is available: \u001b[0m\u001b[31;49m24.0\u001b[0m\u001b[39;49m -> \u001b[0m\u001b[32;49m25.2\u001b[0m\n",
      "\u001b[1m[\u001b[0m\u001b[34;49mnotice\u001b[0m\u001b[1;39;49m]\u001b[0m\u001b[39;49m To update, run: \u001b[0m\u001b[32;49mpip install --upgrade pip\u001b[0m\n",
      "Note: you may need to restart the kernel to use updated packages.\n"
     ]
    }
   ],
   "source": [
    "%pip install langgraph google-cloud-aiplatform pinecone pydantic --quiet"
   ]
  },
  {
   "cell_type": "code",
   "execution_count": 61,
   "id": "0c79c799",
   "metadata": {},
   "outputs": [
    {
     "name": "stderr",
     "output_type": "stream",
     "text": [
      "I0000 00:00:1760037267.875986    5763 fork_posix.cc:71] Other threads are currently calling into gRPC, skipping fork() handlers\n"
     ]
    },
    {
     "name": "stdout",
     "output_type": "stream",
     "text": [
      "\n",
      "\u001b[1m[\u001b[0m\u001b[34;49mnotice\u001b[0m\u001b[1;39;49m]\u001b[0m\u001b[39;49m A new release of pip is available: \u001b[0m\u001b[31;49m24.0\u001b[0m\u001b[39;49m -> \u001b[0m\u001b[32;49m25.2\u001b[0m\n",
      "\u001b[1m[\u001b[0m\u001b[34;49mnotice\u001b[0m\u001b[1;39;49m]\u001b[0m\u001b[39;49m To update, run: \u001b[0m\u001b[32;49mpip install --upgrade pip\u001b[0m\n"
     ]
    }
   ],
   "source": [
    "!python -m pip install --upgrade google-genai --quiet"
   ]
  },
  {
   "cell_type": "code",
   "execution_count": 62,
   "id": "f32e27b5",
   "metadata": {},
   "outputs": [
    {
     "name": "stderr",
     "output_type": "stream",
     "text": [
      "I0000 00:00:1760037271.247203    5763 fork_posix.cc:71] Other threads are currently calling into gRPC, skipping fork() handlers\n"
     ]
    },
    {
     "name": "stdout",
     "output_type": "stream",
     "text": [
      "\n",
      "\u001b[1m[\u001b[0m\u001b[34;49mnotice\u001b[0m\u001b[1;39;49m]\u001b[0m\u001b[39;49m A new release of pip is available: \u001b[0m\u001b[31;49m24.0\u001b[0m\u001b[39;49m -> \u001b[0m\u001b[32;49m25.2\u001b[0m\n",
      "\u001b[1m[\u001b[0m\u001b[34;49mnotice\u001b[0m\u001b[1;39;49m]\u001b[0m\u001b[39;49m To update, run: \u001b[0m\u001b[32;49mpip install --upgrade pip\u001b[0m\n"
     ]
    }
   ],
   "source": [
    "!python -m pip install dotenv --quiet"
   ]
  },
  {
   "cell_type": "code",
   "execution_count": 64,
   "id": "d270c090",
   "metadata": {},
   "outputs": [],
   "source": [
    "# gcloud auth application-default login"
   ]
  },
  {
   "cell_type": "markdown",
   "id": "4e681e85",
   "metadata": {},
   "source": [
    "### Loading env variables"
   ]
  },
  {
   "cell_type": "code",
   "execution_count": 65,
   "id": "0711adad",
   "metadata": {},
   "outputs": [
    {
     "data": {
      "text/plain": [
       "True"
      ]
     },
     "execution_count": 65,
     "metadata": {},
     "output_type": "execute_result"
    }
   ],
   "source": [
    "from dotenv import load_dotenv\n",
    "load_dotenv()"
   ]
  },
  {
   "cell_type": "code",
   "execution_count": 66,
   "id": "3caef679",
   "metadata": {},
   "outputs": [],
   "source": [
    "from google import genai"
   ]
  },
  {
   "cell_type": "markdown",
   "id": "c8e7a5da",
   "metadata": {},
   "source": [
    "### setting up vertex ai "
   ]
  },
  {
   "cell_type": "code",
   "execution_count": 67,
   "id": "65481f42",
   "metadata": {},
   "outputs": [
    {
     "name": "stderr",
     "output_type": "stream",
     "text": [
      "2025-10-10 00:44:57,811 - google_genai._api_client - INFO - The user provided project/location will take precedence over the Vertex AI API key from the environment variable.\n"
     ]
    }
   ],
   "source": [
    "import os\n",
    "\n",
    "PROJECT_ID = \"bdc-trainings\"  # @param {type: \"string\", placeholder: \"[your-project-id]\", isTemplate: true}\n",
    "if not PROJECT_ID or PROJECT_ID == \"[your-project-id]\":\n",
    "    PROJECT_ID = str(os.environ.get(\"GOOGLE_CLOUD_PROJECT\"))\n",
    "\n",
    "LOCATION = os.environ.get(\"GOOGLE_CLOUD_REGION\", \"global\")\n",
    "\n",
    "client = genai.Client(vertexai=True, project=PROJECT_ID, location=LOCATION)"
   ]
  },
  {
   "cell_type": "code",
   "execution_count": 68,
   "id": "3e1fb205",
   "metadata": {},
   "outputs": [
    {
     "name": "stdout",
     "output_type": "stream",
     "text": [
      "Using Vertex AI with project: bdc-trainings in location: global\n"
     ]
    }
   ],
   "source": [
    "if not client.vertexai:\n",
    "    print(\"Using Gemini Developer API.\")\n",
    "elif client._api_client.project:\n",
    "    print(\n",
    "        f\"Using Vertex AI with project: {client._api_client.project} in location: {client._api_client.location}\"\n",
    "    )\n",
    "elif client._api_client.api_key:\n",
    "    print(\n",
    "        f\"Using Vertex AI in express mode with API key: {client._api_client.api_key[:5]}...{client._api_client.api_key[-5:]}\"\n",
    "    )"
   ]
  },
  {
   "cell_type": "markdown",
   "id": "fede0c82",
   "metadata": {},
   "source": [
    "### configurations"
   ]
  },
  {
   "cell_type": "code",
   "execution_count": 69,
   "id": "4ab33e8f",
   "metadata": {},
   "outputs": [],
   "source": [
    "\n",
    "import os\n",
    "\n",
    "EMBEDDING_MODEL = \"models/gemini-embedding-001\"\n",
    "LLM_MODEL = \"gemini-2.5-flash\""
   ]
  },
  {
   "cell_type": "code",
   "execution_count": 70,
   "id": "3d579617",
   "metadata": {},
   "outputs": [],
   "source": [
    "import os\n",
    "import time\n",
    "from dataclasses import dataclass\n",
    "from typing import List, Dict, Any\n",
    "\n",
    "# Pinecone (serverless)\n",
    "from pinecone import Pinecone, ServerlessSpec"
   ]
  },
  {
   "cell_type": "markdown",
   "id": "5275d4f2",
   "metadata": {},
   "source": [
    "### Initialising Pinecone"
   ]
  },
  {
   "cell_type": "code",
   "execution_count": 71,
   "id": "a6f19f91",
   "metadata": {},
   "outputs": [
    {
     "name": "stdout",
     "output_type": "stream",
     "text": [
      "PINECONE API KEY found\n"
     ]
    }
   ],
   "source": [
    "PINECONE_API_KEY = \"XXXXXXXXXXXXXXXXXXXXXXXXXXXXXXXXXXXXXXXXXXXXXXXXXXXXXXXXXXXXXXXXXXXXXXXXXXXXXXXXXX\"\n",
    "\n",
    "if not PINECONE_API_KEY:\n",
    "    raise RuntimeError(\"PINECONE_API_KEY not found. Please set it in your environment.\")\n",
    "else:\n",
    "  print(\"PINECONE API KEY found\")\n",
    "\n",
    "pc = Pinecone(api_key=PINECONE_API_KEY)"
   ]
  },
  {
   "cell_type": "markdown",
   "id": "3a8c9f0e",
   "metadata": {},
   "source": [
    "### Initialising Logger"
   ]
  },
  {
   "cell_type": "code",
   "execution_count": 72,
   "id": "72632221",
   "metadata": {},
   "outputs": [],
   "source": [
    "import logging\n",
    "\n",
    "# Configure logging\n",
    "logging.basicConfig(\n",
    "    level=logging.INFO,  # Change to DEBUG for more detailed logs\n",
    "    format=\"%(asctime)s - %(name)s - %(levelname)s - %(message)s\"\n",
    ")\n",
    "\n",
    "logger = logging.getLogger(__name__)\n"
   ]
  },
  {
   "cell_type": "code",
   "execution_count": 73,
   "id": "0ea8cb08",
   "metadata": {},
   "outputs": [],
   "source": [
    "import logging\n",
    "\n",
    "# Configure logging to both console and file\n",
    "logging.basicConfig(\n",
    "    level=logging.INFO,\n",
    "    format=\"%(asctime)s - %(levelname)s - %(message)s\",\n",
    "    handlers=[\n",
    "        logging.FileHandler(\"rag_workflow.log\"),  # Logs to file\n",
    "        logging.StreamHandler()                   # Logs to console\n",
    "    ]\n",
    ")\n",
    "\n",
    "logger = logging.getLogger(__name__)"
   ]
  },
  {
   "cell_type": "code",
   "execution_count": 74,
   "id": "61fff35c",
   "metadata": {},
   "outputs": [],
   "source": [
    "import json\n",
    "import pinecone\n",
    "\n",
    "from langchain_google_genai import GoogleGenerativeAIEmbeddings\n",
    "embeddings = GoogleGenerativeAIEmbeddings(model=EMBEDDING_MODEL)\n",
    "\n",
    "test_dim = len(embeddings.embed_query(\"dimension probe\"))"
   ]
  },
  {
   "cell_type": "code",
   "execution_count": 75,
   "id": "b29aac58",
   "metadata": {},
   "outputs": [
    {
     "name": "stdout",
     "output_type": "stream",
     "text": [
      "3072\n"
     ]
    }
   ],
   "source": [
    "print(test_dim)"
   ]
  },
  {
   "cell_type": "markdown",
   "id": "0981fbf2",
   "metadata": {},
   "source": [
    "### creating vector db and index through Pinecone"
   ]
  },
  {
   "cell_type": "code",
   "execution_count": 76,
   "id": "5ba86da4",
   "metadata": {},
   "outputs": [
    {
     "name": "stdout",
     "output_type": "stream",
     "text": [
      "Index 'raggcp1' already exists, reusing it.\n",
      "{'dimension': 3072,\n",
      " 'index_fullness': 0.0,\n",
      " 'metric': 'cosine',\n",
      " 'namespaces': {'': {'vector_count': 30}},\n",
      " 'total_vector_count': 30,\n",
      " 'vector_type': 'dense'}\n"
     ]
    }
   ],
   "source": [
    "INDEX_NAME = \"raggcp1\" \n",
    "METRIC = \"cosine\"\n",
    "\n",
    "# Create the index if it doesn't exist\n",
    "existing = [idx[\"name\"] for idx in pc.list_indexes()]\n",
    "if INDEX_NAME not in existing:\n",
    "    print(f\"Creating index '{INDEX_NAME}' ...\")\n",
    "    pc.create_index(\n",
    "        name=INDEX_NAME,\n",
    "        dimension=test_dim, #3072\n",
    "        metric=METRIC,\n",
    "        spec=ServerlessSpec(cloud=\"aws\", region=\"us-east-1\"),)\n",
    "    # optional: wait a moment for the index to be ready\n",
    "    time.sleep(5)\n",
    "else:\n",
    "    print(f\"Index '{INDEX_NAME}' already exists, reusing it.\")\n",
    "\n",
    "index = pc.Index(INDEX_NAME)\n",
    "print(index.describe_index_stats())"
   ]
  },
  {
   "cell_type": "markdown",
   "id": "17972d7f",
   "metadata": {},
   "source": [
    "### Load your dataset"
   ]
  },
  {
   "cell_type": "code",
   "execution_count": 77,
   "id": "f172e036",
   "metadata": {},
   "outputs": [],
   "source": [
    "# Load your dataset\n",
    "with open(\"datasets/self_critique_loop_dataset.json\") as f:\n",
    "    kb_data = json.load(f)"
   ]
  },
  {
   "cell_type": "code",
   "execution_count": 78,
   "id": "baacebf6",
   "metadata": {},
   "outputs": [
    {
     "name": "stdout",
     "output_type": "stream",
     "text": [
      "[{'doc_id': 'KB001', 'question': 'What are best practices for debugging?', 'answer_snippet': \"When addressing debugging, it's important to follow well-defined patterns...\", 'source': 'debugging_guide.md', 'confidence_indicator': 'moderate', 'last_updated': '2024-01-10'}, {'doc_id': 'KB002', 'question': 'What are best practices for performance tuning?', 'answer_snippet': \"When addressing performance tuning, it's important to follow well-defined patterns...\", 'source': 'performance tuning_guide.md', 'confidence_indicator': 'moderate', 'last_updated': '2024-02-10'}, {'doc_id': 'KB003', 'question': 'What are best practices for caching?', 'answer_snippet': \"When addressing caching, it's important to follow well-defined patterns...\", 'source': 'caching_guide.md', 'confidence_indicator': 'moderate', 'last_updated': '2024-03-10'}, {'doc_id': 'KB004', 'question': 'What are best practices for asynchronous programming?', 'answer_snippet': \"When addressing asynchronous programming, it's important to follow well-defined patterns...\", 'source': 'asynchronous programming_guide.md', 'confidence_indicator': 'moderate', 'last_updated': '2024-04-10'}, {'doc_id': 'KB005', 'question': 'What are best practices for API versioning?', 'answer_snippet': \"When addressing API versioning, it's important to follow well-defined patterns...\", 'source': 'API versioning_guide.md', 'confidence_indicator': 'moderate', 'last_updated': '2024-05-10'}, {'doc_id': 'KB006', 'question': 'What are best practices for unit testing?', 'answer_snippet': \"When addressing unit testing, it's important to follow well-defined patterns...\", 'source': 'unit testing_guide.md', 'confidence_indicator': 'moderate', 'last_updated': '2024-06-10'}, {'doc_id': 'KB007', 'question': 'What are best practices for CI/CD?', 'answer_snippet': \"When addressing CI/CD, it's important to follow well-defined patterns...\", 'source': 'CI/CD_guide.md', 'confidence_indicator': 'moderate', 'last_updated': '2024-01-10'}, {'doc_id': 'KB008', 'question': 'What are best practices for logging?', 'answer_snippet': \"When addressing logging, it's important to follow well-defined patterns...\", 'source': 'logging_guide.md', 'confidence_indicator': 'moderate', 'last_updated': '2024-02-10'}, {'doc_id': 'KB009', 'question': 'What are best practices for error handling?', 'answer_snippet': \"When addressing error handling, it's important to follow well-defined patterns...\", 'source': 'error handling_guide.md', 'confidence_indicator': 'moderate', 'last_updated': '2024-03-10'}, {'doc_id': 'KB010', 'question': 'What are best practices for rate limiting?', 'answer_snippet': \"When addressing rate limiting, it's important to follow well-defined patterns...\", 'source': 'rate limiting_guide.md', 'confidence_indicator': 'moderate', 'last_updated': '2024-04-10'}, {'doc_id': 'KB011', 'question': 'What are best practices for debugging?', 'answer_snippet': \"When addressing debugging, it's important to follow well-defined patterns...\", 'source': 'debugging_guide.md', 'confidence_indicator': 'moderate', 'last_updated': '2024-05-10'}, {'doc_id': 'KB012', 'question': 'What are best practices for performance tuning?', 'answer_snippet': \"When addressing performance tuning, it's important to follow well-defined patterns...\", 'source': 'performance tuning_guide.md', 'confidence_indicator': 'moderate', 'last_updated': '2024-06-10'}, {'doc_id': 'KB013', 'question': 'What are best practices for caching?', 'answer_snippet': \"When addressing caching, it's important to follow well-defined patterns...\", 'source': 'caching_guide.md', 'confidence_indicator': 'moderate', 'last_updated': '2024-01-10'}, {'doc_id': 'KB014', 'question': 'What are best practices for asynchronous programming?', 'answer_snippet': \"When addressing asynchronous programming, it's important to follow well-defined patterns...\", 'source': 'asynchronous programming_guide.md', 'confidence_indicator': 'moderate', 'last_updated': '2024-02-10'}, {'doc_id': 'KB015', 'question': 'What are best practices for API versioning?', 'answer_snippet': \"When addressing API versioning, it's important to follow well-defined patterns...\", 'source': 'API versioning_guide.md', 'confidence_indicator': 'moderate', 'last_updated': '2024-03-10'}, {'doc_id': 'KB016', 'question': 'What are best practices for unit testing?', 'answer_snippet': \"When addressing unit testing, it's important to follow well-defined patterns...\", 'source': 'unit testing_guide.md', 'confidence_indicator': 'moderate', 'last_updated': '2024-04-10'}, {'doc_id': 'KB017', 'question': 'What are best practices for CI/CD?', 'answer_snippet': \"When addressing CI/CD, it's important to follow well-defined patterns...\", 'source': 'CI/CD_guide.md', 'confidence_indicator': 'moderate', 'last_updated': '2024-05-10'}, {'doc_id': 'KB018', 'question': 'What are best practices for logging?', 'answer_snippet': \"When addressing logging, it's important to follow well-defined patterns...\", 'source': 'logging_guide.md', 'confidence_indicator': 'moderate', 'last_updated': '2024-06-10'}, {'doc_id': 'KB019', 'question': 'What are best practices for error handling?', 'answer_snippet': \"When addressing error handling, it's important to follow well-defined patterns...\", 'source': 'error handling_guide.md', 'confidence_indicator': 'moderate', 'last_updated': '2024-01-10'}, {'doc_id': 'KB020', 'question': 'What are best practices for rate limiting?', 'answer_snippet': \"When addressing rate limiting, it's important to follow well-defined patterns...\", 'source': 'rate limiting_guide.md', 'confidence_indicator': 'moderate', 'last_updated': '2024-02-10'}, {'doc_id': 'KB021', 'question': 'What are best practices for debugging?', 'answer_snippet': \"When addressing debugging, it's important to follow well-defined patterns...\", 'source': 'debugging_guide.md', 'confidence_indicator': 'moderate', 'last_updated': '2024-03-10'}, {'doc_id': 'KB022', 'question': 'What are best practices for performance tuning?', 'answer_snippet': \"When addressing performance tuning, it's important to follow well-defined patterns...\", 'source': 'performance tuning_guide.md', 'confidence_indicator': 'moderate', 'last_updated': '2024-04-10'}, {'doc_id': 'KB023', 'question': 'What are best practices for caching?', 'answer_snippet': \"When addressing caching, it's important to follow well-defined patterns...\", 'source': 'caching_guide.md', 'confidence_indicator': 'moderate', 'last_updated': '2024-05-10'}, {'doc_id': 'KB024', 'question': 'What are best practices for asynchronous programming?', 'answer_snippet': \"When addressing asynchronous programming, it's important to follow well-defined patterns...\", 'source': 'asynchronous programming_guide.md', 'confidence_indicator': 'moderate', 'last_updated': '2024-06-10'}, {'doc_id': 'KB025', 'question': 'What are best practices for API versioning?', 'answer_snippet': \"When addressing API versioning, it's important to follow well-defined patterns...\", 'source': 'API versioning_guide.md', 'confidence_indicator': 'moderate', 'last_updated': '2024-01-10'}, {'doc_id': 'KB026', 'question': 'What are best practices for unit testing?', 'answer_snippet': \"When addressing unit testing, it's important to follow well-defined patterns...\", 'source': 'unit testing_guide.md', 'confidence_indicator': 'moderate', 'last_updated': '2024-02-10'}, {'doc_id': 'KB027', 'question': 'What are best practices for CI/CD?', 'answer_snippet': \"When addressing CI/CD, it's important to follow well-defined patterns...\", 'source': 'CI/CD_guide.md', 'confidence_indicator': 'moderate', 'last_updated': '2024-03-10'}, {'doc_id': 'KB028', 'question': 'What are best practices for logging?', 'answer_snippet': \"When addressing logging, it's important to follow well-defined patterns...\", 'source': 'logging_guide.md', 'confidence_indicator': 'moderate', 'last_updated': '2024-04-10'}, {'doc_id': 'KB029', 'question': 'What are best practices for error handling?', 'answer_snippet': \"When addressing error handling, it's important to follow well-defined patterns...\", 'source': 'error handling_guide.md', 'confidence_indicator': 'moderate', 'last_updated': '2024-05-10'}, {'doc_id': 'KB030', 'question': 'What are best practices for rate limiting?', 'answer_snippet': \"When addressing rate limiting, it's important to follow well-defined patterns...\", 'source': 'rate limiting_guide.md', 'confidence_indicator': 'moderate', 'last_updated': '2024-06-10'}]\n"
     ]
    }
   ],
   "source": [
    "print(kb_data)"
   ]
  },
  {
   "cell_type": "markdown",
   "id": "93bed1e6",
   "metadata": {},
   "source": [
    "### Embedding the data"
   ]
  },
  {
   "cell_type": "code",
   "execution_count": 79,
   "id": "b3e5f13a",
   "metadata": {},
   "outputs": [],
   "source": [
    "# Extract texts\n",
    "texts = [entry[\"answer_snippet\"] for entry in kb_data]\n",
    "\n",
    "# Get embeddings\n",
    "embeddings_1 = embeddings.embed_documents(texts)"
   ]
  },
  {
   "cell_type": "markdown",
   "id": "33561daf",
   "metadata": {},
   "source": [
    "#### Upserting data into vector db"
   ]
  },
  {
   "cell_type": "code",
   "execution_count": 80,
   "id": "14b47bed",
   "metadata": {},
   "outputs": [
    {
     "name": "stdout",
     "output_type": "stream",
     "text": [
      "KB Indexed into Pinecone\n"
     ]
    }
   ],
   "source": [
    "# Upsert\n",
    "vectors = [{\n",
    "    \"id\": item[\"doc_id\"],\n",
    "    \"values\": vector,\n",
    "    \"metadata\": {\n",
    "        \"question\": item[\"question\"],\n",
    "        \"snippet\": item[\"answer_snippet\"],\n",
    "        \"source\": item[\"source\"]\n",
    "    }\n",
    "} for item, vector in zip(kb_data, embeddings_1)]\n",
    "\n",
    "index.upsert(vectors)\n",
    "\n",
    "print(\"KB Indexed into Pinecone\")\n"
   ]
  },
  {
   "cell_type": "code",
   "execution_count": 81,
   "id": "4f26c07f",
   "metadata": {},
   "outputs": [],
   "source": [
    "# ###testing\n",
    "# query = \"What are best practices for performance tuning?\"\n",
    "# k = 5\n",
    "\n",
    "# # Get the embedding vector for the query\n",
    "# query_vector = embeddings.embed_query(query)\n",
    "\n",
    "# # Query Pinecone index using the vector\n",
    "# results = index.query(\n",
    "#     vector=query_vector,\n",
    "#     top_k=k,\n",
    "#     include_metadata=True\n",
    "# )\n"
   ]
  },
  {
   "cell_type": "code",
   "execution_count": 82,
   "id": "0aa7eea7",
   "metadata": {},
   "outputs": [],
   "source": [
    "# results"
   ]
  },
  {
   "cell_type": "markdown",
   "id": "3f5f7271",
   "metadata": {},
   "source": [
    "### Defining RAG NODES"
   ]
  },
  {
   "cell_type": "code",
   "execution_count": 83,
   "id": "243a756f",
   "metadata": {},
   "outputs": [],
   "source": [
    "### Defining RAG NODES\n",
    "\n",
    "# Retrieval Node\n",
    "def retrieve_kb(question, top_k=5):\n",
    "    query_vector = embeddings.embed_query(question)\n",
    "    results = index.query(\n",
    "    vector=query_vector,\n",
    "    top_k=5,\n",
    "    include_metadata=True\n",
    ")\n",
    "    return results[\"matches\"]"
   ]
  },
  {
   "cell_type": "code",
   "execution_count": 84,
   "id": "db095c2a",
   "metadata": {},
   "outputs": [],
   "source": [
    "###testing the retrieval node\n",
    "# query=\"What are best practices for asynchronous programming?\"\n",
    "# retrieve_kb(query=\"What are best practices for asynchronous programming?\")"
   ]
  },
  {
   "cell_type": "code",
   "execution_count": 85,
   "id": "79c6edf5",
   "metadata": {},
   "outputs": [],
   "source": [
    "# snippets=retrieve_kb(query=\"What are best practices for asynchronous programming?\")"
   ]
  },
  {
   "cell_type": "markdown",
   "id": "cfcc0218",
   "metadata": {},
   "source": [
    "### Generation Node"
   ]
  },
  {
   "cell_type": "code",
   "execution_count": 86,
   "id": "835b9574",
   "metadata": {},
   "outputs": [],
   "source": [
    "# Generation Node\n",
    "def generate_answer(question, snippets):\n",
    "    context = \"\\n\".join([f\"[{s['id']}] {s['metadata']['snippet']}\" for s in snippets])\n",
    "    prompt = f\"\"\"Use the context below to answer the question:\n",
    "Context:\n",
    "{context}\n",
    "Question: {question}\n",
    "Answer with citations in the format [KBxxx].\"\"\"\n",
    "\n",
    "    return client.models.generate_content(contents=prompt, model=LLM_MODEL).text.strip()"
   ]
  },
  {
   "cell_type": "code",
   "execution_count": 87,
   "id": "8567d685",
   "metadata": {},
   "outputs": [],
   "source": [
    "# generate_answer(query=\"What are best practices for asynchronous programming?\",snippets=snippets)"
   ]
  },
  {
   "cell_type": "code",
   "execution_count": 88,
   "id": "26e04a33",
   "metadata": {},
   "outputs": [],
   "source": [
    "# answer=generate_answer(query=\"What are best practices for asynchronous programming?\",snippets=snippets)"
   ]
  },
  {
   "cell_type": "markdown",
   "id": "2fd581df",
   "metadata": {},
   "source": [
    "### Critique Node"
   ]
  },
  {
   "cell_type": "code",
   "execution_count": 89,
   "id": "1daab410",
   "metadata": {},
   "outputs": [],
   "source": [
    "# Critique Node\n",
    "def critique_answer(question, snippets, answer):\n",
    "    context = \"\\n\".join([f\"- {s['metadata']['snippet']}\" for s in snippets])\n",
    "    prompt = f\"\"\"Given the context and an answer, determine if the answer is COMPLETE or needs REFINEMENT.\n",
    "Context:\n",
    "{context}\n",
    "\n",
    "Question: {question}\n",
    "\n",
    "Answer:\n",
    "{answer}\n",
    "\n",
    "Respond in one of the following formats:\n",
    "- COMPLETE\n",
    "- REFINE: <list missing keywords or ideas>\n",
    "\"\"\"\n",
    "    return client.models.generate_content(contents=prompt, model=LLM_MODEL).text.strip()"
   ]
  },
  {
   "cell_type": "code",
   "execution_count": 90,
   "id": "8f5b5135",
   "metadata": {},
   "outputs": [],
   "source": [
    "# critique_answer(query, snippets, answer)"
   ]
  },
  {
   "cell_type": "markdown",
   "id": "64b7e938",
   "metadata": {},
   "source": [
    "### Refinement Node"
   ]
  },
  {
   "cell_type": "code",
   "execution_count": 91,
   "id": "58049baa",
   "metadata": {},
   "outputs": [],
   "source": [
    "# Refinement Node\n",
    "def refine_answer(question, prev_snippets, missing_keywords):\n",
    "    new_query = f\"{question} {missing_keywords}\"\n",
    "    extra_snippet = retrieve_kb(new_query, top_k=1)\n",
    "    combined = prev_snippets + extra_snippet\n",
    "    return generate_answer(question, combined)\n"
   ]
  },
  {
   "cell_type": "code",
   "execution_count": 92,
   "id": "904d2adf",
   "metadata": {},
   "outputs": [],
   "source": [
    "# refine_answer(query, prev_snippets=snippets, missing_keywords='REFINE: performance tuning')"
   ]
  },
  {
   "cell_type": "markdown",
   "id": "9b3c33c5",
   "metadata": {},
   "source": [
    "### Build LangGraph Workflow "
   ]
  },
  {
   "cell_type": "code",
   "execution_count": 93,
   "id": "a3fdeece",
   "metadata": {},
   "outputs": [],
   "source": [
    "# Build LangGraph Workflow \n",
    "\n",
    "\n",
    "from typing import TypedDict\n",
    "from langgraph.graph import StateGraph\n",
    "\n",
    "\n",
    "# Define the schema for the graph state\n",
    "class RAGState(TypedDict):\n",
    "    question: str\n",
    "    snippets: list\n",
    "    answer: str\n",
    "    critique: str\n",
    "    final_answer: str\n",
    "\n",
    "\n",
    "def build_rag_graph():\n",
    "    graph = StateGraph(RAGState)\n",
    "    \n",
    "    def retrieve(state):\n",
    "        question = state[\"question\"]\n",
    "        logger.info(f\"Retrieving snippets for question: {question}\")\n",
    "        snippets = retrieve_kb(question)\n",
    "        logger.info(f\"[Retriever] Retrieved {len(snippets)} snippets\")\n",
    "\n",
    "        return {\"question\": question, \"snippets\": snippets}\n",
    "    \n",
    "    \n",
    "    def generate(state):\n",
    "        logger.info(f\"[GenerateAnswer] Generating answer for: {state['question']}\")\n",
    "        answer = generate_answer(state[\"question\"], state[\"snippets\"])\n",
    "        logger.info(f\"[GenerateAnswer] Generated answer: {answer[:100]}...\")\n",
    "        return {**state, \"answer\": answer}\n",
    "\n",
    "    \n",
    "    def critique(state):\n",
    "        logger.info(f\"[Critique] Critiquing answer...\")\n",
    "        result = critique_answer(state[\"question\"], state[\"snippets\"], state[\"answer\"])\n",
    "        logger.info(f\"[Critique] Critique result: {result}\")\n",
    "        return {**state, \"critique\": result}\n",
    "\n",
    "    \n",
    "    # def needs_refine(state):\n",
    "    #     return \"REFINE\" in state[\"critique\"]\n",
    "    \n",
    "    def needs_refine(state):\n",
    "        decision = \"REFINE\" in state[\"critique\"]\n",
    "        logger.info(f\"[CheckCritique] Needs refinement? {decision}\")\n",
    "        return decision\n",
    "\n",
    "    \n",
    "    def refine(state):\n",
    "        logger.info(f\"[Refine] Refining answer...\")\n",
    "        missing = state[\"critique\"].split(\"REFINE:\")[-1].strip()\n",
    "        final_answer = refine_answer(state[\"question\"], state[\"snippets\"], missing)\n",
    "        logger.info(f\"[Refine] Final refined answer: {final_answer[:100]}...\")\n",
    "        return {**state, \"final_answer\": final_answer}\n",
    "    \n",
    "    def end_node(state):\n",
    "        logger.info(f\"[END] Final state reached.\")\n",
    "        return state  # Just passes through\n",
    " \n",
    "    graph.add_node(\"Retriever\", retrieve)\n",
    "    graph.add_node(\"GenerateAnswer\", generate)\n",
    "    graph.add_node(\"Critique\", critique)\n",
    "    graph.add_node(\"Refine\", refine)\n",
    "    graph.add_node(\"END\", end_node)\n",
    "\n",
    "    # Add condition\n",
    "    graph.add_conditional_edges(\"Critique\", needs_refine, {\n",
    "        True: \"Refine\",\n",
    "        False: \"END\"\n",
    "    })\n",
    "   \n",
    "# Set entry and edges\n",
    "    graph.set_entry_point(\"Retriever\")\n",
    "    graph.add_edge(\"Retriever\", \"GenerateAnswer\")\n",
    "    graph.add_edge(\"GenerateAnswer\", \"Critique\")\n",
    "    graph.add_edge(\"Refine\", \"END\")\n",
    "\n",
    "    return graph.compile()"
   ]
  },
  {
   "cell_type": "code",
   "execution_count": 94,
   "id": "8f845365",
   "metadata": {},
   "outputs": [
    {
     "name": "stderr",
     "output_type": "stream",
     "text": [
      "2025-10-10 00:46:53,696 - __main__ - INFO - [Main] Starting RAG workflow for question: \"What are best practices for asynchronous programming?\"\n",
      "2025-10-10 00:46:53,698 - __main__ - INFO - Retrieving snippets for question: \"What are best practices for asynchronous programming?\"\n",
      "2025-10-10 00:46:55,371 - __main__ - INFO - [Retriever] Retrieved 5 snippets\n",
      "2025-10-10 00:46:55,373 - __main__ - INFO - [GenerateAnswer] Generating answer for: \"What are best practices for asynchronous programming?\"\n",
      "2025-10-10 00:46:55,374 - google_genai.models - INFO - AFC is enabled with max remote calls: 10.\n",
      "2025-10-10 00:46:59,146 - httpx - INFO - HTTP Request: POST https://aiplatform.googleapis.com/v1beta1/projects/bdc-trainings/locations/global/publishers/google/models/gemini-2.5-flash:generateContent \"HTTP/1.1 200 OK\"\n",
      "2025-10-10 00:46:59,152 - __main__ - INFO - [GenerateAnswer] Generated answer: When addressing asynchronous programming, it's important to follow well-defined patterns [KB004, KB0...\n",
      "2025-10-10 00:46:59,153 - __main__ - INFO - [Critique] Critiquing answer...\n",
      "2025-10-10 00:46:59,154 - google_genai.models - INFO - AFC is enabled with max remote calls: 10.\n",
      "2025-10-10 00:47:02,192 - httpx - INFO - HTTP Request: POST https://aiplatform.googleapis.com/v1beta1/projects/bdc-trainings/locations/global/publishers/google/models/gemini-2.5-flash:generateContent \"HTTP/1.1 200 OK\"\n",
      "2025-10-10 00:47:02,194 - __main__ - INFO - [Critique] Critique result: COMPLETE\n",
      "2025-10-10 00:47:02,195 - __main__ - INFO - [CheckCritique] Needs refinement? False\n",
      "2025-10-10 00:47:02,196 - __main__ - INFO - [END] Final state reached.\n",
      "2025-10-10 00:47:02,197 - __main__ - INFO - [Main] Workflow completed. Final result: When addressing asynchronous programming, it's important to follow well-defined patterns [KB004, KB014, KB024].\n"
     ]
    },
    {
     "name": "stdout",
     "output_type": "stream",
     "text": [
      "When addressing asynchronous programming, it's important to follow well-defined patterns [KB004, KB014, KB024].\n"
     ]
    }
   ],
   "source": [
    "graph= build_rag_graph()\n",
    "\n",
    "question = input(\"Enter your question: \")\n",
    "logger.info(f\"[Main] Starting RAG workflow for question: {question}\")\n",
    "\n",
    "result = graph.invoke({\"question\": question})\n",
    "\n",
    "logger.info(f\"[Main] Workflow completed. Final result: {result.get('final_answer', result.get('answer'))}\")\n",
    "print(result.get(\"final_answer\", result.get(\"answer\")))"
   ]
  },
  {
   "cell_type": "code",
   "execution_count": 95,
   "id": "06a93533",
   "metadata": {},
   "outputs": [
    {
     "name": "stdout",
     "output_type": "stream",
     "text": [
      "When addressing asynchronous programming, it's important to follow well-defined patterns [KB004, KB014, KB024].\n"
     ]
    }
   ],
   "source": [
    "print(result.get(\"final_answer\", result.get(\"answer\")))"
   ]
  },
  {
   "cell_type": "code",
   "execution_count": 96,
   "id": "1c7b9b02",
   "metadata": {},
   "outputs": [
    {
     "name": "stderr",
     "output_type": "stream",
     "text": [
      "2025-10-10 00:47:30,496 - __main__ - INFO - Retrieving snippets for question: \"What are best practices for asynchronous programming?\"\n",
      "2025-10-10 00:47:31,520 - __main__ - INFO - [Retriever] Retrieved 5 snippets\n",
      "2025-10-10 00:47:31,522 - __main__ - INFO - [GenerateAnswer] Generating answer for: \"What are best practices for asynchronous programming?\"\n",
      "2025-10-10 00:47:31,522 - google_genai.models - INFO - AFC is enabled with max remote calls: 10.\n",
      "2025-10-10 00:47:33,738 - httpx - INFO - HTTP Request: POST https://aiplatform.googleapis.com/v1beta1/projects/bdc-trainings/locations/global/publishers/google/models/gemini-2.5-flash:generateContent \"HTTP/1.1 200 OK\"\n",
      "2025-10-10 00:47:33,740 - __main__ - INFO - [GenerateAnswer] Generated answer: When addressing asynchronous programming, it's important to follow well-defined patterns [KB014, KB0...\n",
      "2025-10-10 00:47:33,740 - __main__ - INFO - [Critique] Critiquing answer...\n",
      "2025-10-10 00:47:33,741 - google_genai.models - INFO - AFC is enabled with max remote calls: 10.\n",
      "2025-10-10 00:47:45,842 - httpx - INFO - HTTP Request: POST https://aiplatform.googleapis.com/v1beta1/projects/bdc-trainings/locations/global/publishers/google/models/gemini-2.5-flash:generateContent \"HTTP/1.1 200 OK\"\n",
      "2025-10-10 00:47:45,844 - __main__ - INFO - [Critique] Critique result: REFINE: specific examples of well-defined patterns, other best practices for asynchronous programming\n",
      "2025-10-10 00:47:45,845 - __main__ - INFO - [CheckCritique] Needs refinement? True\n",
      "2025-10-10 00:47:45,846 - __main__ - INFO - [Refine] Refining answer...\n",
      "2025-10-10 00:47:46,833 - google_genai.models - INFO - AFC is enabled with max remote calls: 10.\n",
      "2025-10-10 00:47:49,399 - httpx - INFO - HTTP Request: POST https://aiplatform.googleapis.com/v1beta1/projects/bdc-trainings/locations/global/publishers/google/models/gemini-2.5-flash:generateContent \"HTTP/1.1 200 OK\"\n",
      "2025-10-10 00:47:49,402 - __main__ - INFO - [Refine] Final refined answer: When addressing asynchronous programming, it's important to follow well-defined patterns [KB014, KB0...\n",
      "2025-10-10 00:47:49,403 - __main__ - INFO - [END] Final state reached.\n"
     ]
    },
    {
     "name": "stdout",
     "output_type": "stream",
     "text": [
      "When addressing asynchronous programming, it's important to follow well-defined patterns [KB014, KB024, KB004].\n"
     ]
    }
   ],
   "source": [
    "graph= build_rag_graph()\n",
    "\n",
    "question=input(\"Enter your question: \")\n",
    "\n",
    "result= graph.invoke({\"question\": question})\n",
    "\n",
    "\n",
    "print(result.get(\"final_answer\", result[\"answer\"]))"
   ]
  },
  {
   "cell_type": "markdown",
   "id": "6c6f20ce",
   "metadata": {},
   "source": [
    "### Testing Queries\n",
    "Try the pipeline with:\n",
    "1. “What are best practices for caching?”\n",
    "2. “How should I set up CI/CD pipelines?”\n",
    "3. “What are performance tuning tips?”\n",
    "4. “How do I version my APIs?”\n",
    "5. “What should I consider for error handling?"
   ]
  },
  {
   "cell_type": "markdown",
   "id": "39a45161",
   "metadata": {},
   "source": [
    "#### What are best practices for caching?"
   ]
  },
  {
   "cell_type": "code",
   "execution_count": 97,
   "id": "04bee2e7",
   "metadata": {},
   "outputs": [
    {
     "name": "stderr",
     "output_type": "stream",
     "text": [
      "2025-10-10 00:48:03,314 - __main__ - INFO - Retrieving snippets for question: “What are best practices for caching?”\n",
      "2025-10-10 00:48:04,314 - __main__ - INFO - [Retriever] Retrieved 5 snippets\n",
      "2025-10-10 00:48:04,316 - __main__ - INFO - [GenerateAnswer] Generating answer for: “What are best practices for caching?”\n",
      "2025-10-10 00:48:04,316 - google_genai.models - INFO - AFC is enabled with max remote calls: 10.\n",
      "2025-10-10 00:48:06,343 - httpx - INFO - HTTP Request: POST https://aiplatform.googleapis.com/v1beta1/projects/bdc-trainings/locations/global/publishers/google/models/gemini-2.5-flash:generateContent \"HTTP/1.1 200 OK\"\n",
      "2025-10-10 00:48:06,345 - __main__ - INFO - [GenerateAnswer] Generated answer: When addressing caching, it's important to follow well-defined patterns [KB023, KB013, KB003]....\n",
      "2025-10-10 00:48:06,346 - __main__ - INFO - [Critique] Critiquing answer...\n",
      "2025-10-10 00:48:06,346 - google_genai.models - INFO - AFC is enabled with max remote calls: 10.\n",
      "2025-10-10 00:48:09,653 - httpx - INFO - HTTP Request: POST https://aiplatform.googleapis.com/v1beta1/projects/bdc-trainings/locations/global/publishers/google/models/gemini-2.5-flash:generateContent \"HTTP/1.1 200 OK\"\n",
      "2025-10-10 00:48:09,655 - __main__ - INFO - [Critique] Critique result: REFINE: caching patterns, cache invalidation, cache eviction, data consistency, caching layers, cache-hit ratio, stale data handling\n",
      "2025-10-10 00:48:09,656 - __main__ - INFO - [CheckCritique] Needs refinement? True\n",
      "2025-10-10 00:48:09,657 - __main__ - INFO - [Refine] Refining answer...\n",
      "2025-10-10 00:48:10,665 - google_genai.models - INFO - AFC is enabled with max remote calls: 10.\n",
      "2025-10-10 00:48:12,918 - httpx - INFO - HTTP Request: POST https://aiplatform.googleapis.com/v1beta1/projects/bdc-trainings/locations/global/publishers/google/models/gemini-2.5-flash:generateContent \"HTTP/1.1 200 OK\"\n",
      "2025-10-10 00:48:12,920 - __main__ - INFO - [Refine] Final refined answer: When addressing caching, it's important to follow well-defined patterns [KB023, KB013, KB003]....\n",
      "2025-10-10 00:48:12,921 - __main__ - INFO - [END] Final state reached.\n"
     ]
    },
    {
     "name": "stdout",
     "output_type": "stream",
     "text": [
      "When addressing caching, it's important to follow well-defined patterns [KB023, KB013, KB003].\n"
     ]
    }
   ],
   "source": [
    "graph= build_rag_graph()\n",
    "\n",
    "question=input(\"Enter your question: \")\n",
    "\n",
    "result= graph.invoke({\"question\": question})\n",
    "\n",
    "\n",
    "print(result.get(\"final_answer\", result[\"answer\"]))"
   ]
  },
  {
   "cell_type": "markdown",
   "id": "0582217f",
   "metadata": {},
   "source": [
    "####  “How should I set up CI/CD pipelines?”"
   ]
  },
  {
   "cell_type": "code",
   "execution_count": null,
   "id": "38158e2d",
   "metadata": {},
   "outputs": [
    {
     "name": "stderr",
     "output_type": "stream",
     "text": [
      "2025-10-10 00:48:22,080 - __main__ - INFO - Retrieving snippets for question: “How should I set up CI/CD pipelines?”\n",
      "2025-10-10 00:48:23,045 - __main__ - INFO - [Retriever] Retrieved 5 snippets\n",
      "2025-10-10 00:48:23,046 - __main__ - INFO - [GenerateAnswer] Generating answer for: “How should I set up CI/CD pipelines?”\n",
      "2025-10-10 00:48:23,047 - google_genai.models - INFO - AFC is enabled with max remote calls: 10.\n",
      "2025-10-10 00:48:24,841 - httpx - INFO - HTTP Request: POST https://aiplatform.googleapis.com/v1beta1/projects/bdc-trainings/locations/global/publishers/google/models/gemini-2.5-flash:generateContent \"HTTP/1.1 200 OK\"\n",
      "2025-10-10 00:48:24,843 - __main__ - INFO - [GenerateAnswer] Generated answer: When setting up CI/CD pipelines, it's important to follow well-defined patterns [KB007, KB017, KB027...\n",
      "2025-10-10 00:48:24,844 - __main__ - INFO - [Critique] Critiquing answer...\n",
      "2025-10-10 00:48:24,845 - google_genai.models - INFO - AFC is enabled with max remote calls: 10.\n",
      "2025-10-10 00:48:27,212 - httpx - INFO - HTTP Request: POST https://aiplatform.googleapis.com/v1beta1/projects/bdc-trainings/locations/global/publishers/google/models/gemini-2.5-flash:generateContent \"HTTP/1.1 200 OK\"\n",
      "2025-10-10 00:48:27,213 - __main__ - INFO - [Critique] Critique result: REFINE: specific steps for setting up CI/CD pipelines, examples of well-defined patterns for CI/CD\n",
      "2025-10-10 00:48:27,215 - __main__ - INFO - [CheckCritique] Needs refinement? True\n",
      "2025-10-10 00:48:27,216 - __main__ - INFO - [Refine] Refining answer...\n",
      "2025-10-10 00:48:28,205 - google_genai.models - INFO - AFC is enabled with max remote calls: 10.\n",
      "2025-10-10 00:48:30,814 - httpx - INFO - HTTP Request: POST https://aiplatform.googleapis.com/v1beta1/projects/bdc-trainings/locations/global/publishers/google/models/gemini-2.5-flash:generateContent \"HTTP/1.1 200 OK\"\n",
      "2025-10-10 00:48:30,816 - __main__ - INFO - [Refine] Final refined answer: When addressing CI/CD, it's important to follow well-defined patterns [KB027, KB017, KB007]....\n",
      "2025-10-10 00:48:30,817 - __main__ - INFO - [END] Final state reached.\n"
     ]
    },
    {
     "name": "stdout",
     "output_type": "stream",
     "text": [
      "When addressing CI/CD, it's important to follow well-defined patterns [KB027, KB017, KB007].\n"
     ]
    }
   ],
   "source": [
    "graph= build_rag_graph()\n",
    "\n",
    "question=input(\"Enter your question: \")\n",
    "\n",
    "result= graph.invoke({\"question\": question})\n",
    "\n",
    "print(result.get(\"final_answer\", result[\"answer\"]))"
   ]
  },
  {
   "cell_type": "markdown",
   "id": "45f1ae48",
   "metadata": {},
   "source": [
    "#### 3. “What are performance tuning tips?”"
   ]
  },
  {
   "cell_type": "code",
   "execution_count": 99,
   "id": "0638b275",
   "metadata": {},
   "outputs": [
    {
     "name": "stderr",
     "output_type": "stream",
     "text": [
      "2025-10-10 00:48:55,452 - __main__ - INFO - Retrieving snippets for question: “What are performance tuning tips?” \n",
      "2025-10-10 00:48:56,424 - __main__ - INFO - [Retriever] Retrieved 5 snippets\n",
      "2025-10-10 00:48:56,425 - __main__ - INFO - [GenerateAnswer] Generating answer for: “What are performance tuning tips?” \n",
      "2025-10-10 00:48:56,426 - google_genai.models - INFO - AFC is enabled with max remote calls: 10.\n",
      "2025-10-10 00:48:58,692 - httpx - INFO - HTTP Request: POST https://aiplatform.googleapis.com/v1beta1/projects/bdc-trainings/locations/global/publishers/google/models/gemini-2.5-flash:generateContent \"HTTP/1.1 200 OK\"\n",
      "2025-10-10 00:48:58,695 - __main__ - INFO - [GenerateAnswer] Generated answer: When addressing performance tuning, it's important to follow well-defined patterns [KB012, KB002, KB...\n",
      "2025-10-10 00:48:58,696 - __main__ - INFO - [Critique] Critiquing answer...\n",
      "2025-10-10 00:48:58,696 - google_genai.models - INFO - AFC is enabled with max remote calls: 10.\n",
      "2025-10-10 00:49:05,415 - httpx - INFO - HTTP Request: POST https://aiplatform.googleapis.com/v1beta1/projects/bdc-trainings/locations/global/publishers/google/models/gemini-2.5-flash:generateContent \"HTTP/1.1 200 OK\"\n",
      "2025-10-10 00:49:05,417 - __main__ - INFO - [Critique] Critique result: COMPLETE\n",
      "2025-10-10 00:49:05,418 - __main__ - INFO - [CheckCritique] Needs refinement? False\n",
      "2025-10-10 00:49:05,420 - __main__ - INFO - [END] Final state reached.\n"
     ]
    },
    {
     "name": "stdout",
     "output_type": "stream",
     "text": [
      "When addressing performance tuning, it's important to follow well-defined patterns [KB012, KB002, KB022].\n"
     ]
    }
   ],
   "source": [
    "graph= build_rag_graph()\n",
    "\n",
    "question=input(\"Enter your question: \")\n",
    "\n",
    "result= graph.invoke({\"question\": question})\n",
    "\n",
    "\n",
    "print(result.get(\"final_answer\", result[\"answer\"]))"
   ]
  },
  {
   "cell_type": "markdown",
   "id": "ad5d2b9b",
   "metadata": {},
   "source": [
    "#### 4. “How do I version my APIs?”"
   ]
  },
  {
   "cell_type": "code",
   "execution_count": 100,
   "id": "1699fa1f",
   "metadata": {},
   "outputs": [
    {
     "name": "stderr",
     "output_type": "stream",
     "text": [
      "2025-10-10 00:49:42,632 - __main__ - INFO - Retrieving snippets for question: “How do I version my APIs?”\n",
      "2025-10-10 00:49:43,636 - __main__ - INFO - [Retriever] Retrieved 5 snippets\n",
      "2025-10-10 00:49:43,637 - __main__ - INFO - [GenerateAnswer] Generating answer for: “How do I version my APIs?”\n",
      "2025-10-10 00:49:43,638 - google_genai.models - INFO - AFC is enabled with max remote calls: 10.\n",
      "2025-10-10 00:49:45,789 - httpx - INFO - HTTP Request: POST https://aiplatform.googleapis.com/v1beta1/projects/bdc-trainings/locations/global/publishers/google/models/gemini-2.5-flash:generateContent \"HTTP/1.1 200 OK\"\n",
      "2025-10-10 00:49:45,791 - __main__ - INFO - [GenerateAnswer] Generated answer: When addressing API versioning, it's important to follow well-defined patterns [KB005, KB025, KB015]...\n",
      "2025-10-10 00:49:45,792 - __main__ - INFO - [Critique] Critiquing answer...\n",
      "2025-10-10 00:49:45,792 - google_genai.models - INFO - AFC is enabled with max remote calls: 10.\n",
      "2025-10-10 00:49:53,590 - httpx - INFO - HTTP Request: POST https://aiplatform.googleapis.com/v1beta1/projects/bdc-trainings/locations/global/publishers/google/models/gemini-2.5-flash:generateContent \"HTTP/1.1 200 OK\"\n",
      "2025-10-10 00:49:53,592 - __main__ - INFO - [Critique] Critique result: REFINE: specific versioning patterns, methods for implementing API versioning, examples of well-defined patterns\n",
      "2025-10-10 00:49:53,593 - __main__ - INFO - [CheckCritique] Needs refinement? True\n",
      "2025-10-10 00:49:53,594 - __main__ - INFO - [Refine] Refining answer...\n",
      "2025-10-10 00:49:54,562 - google_genai.models - INFO - AFC is enabled with max remote calls: 10.\n",
      "2025-10-10 00:49:56,638 - httpx - INFO - HTTP Request: POST https://aiplatform.googleapis.com/v1beta1/projects/bdc-trainings/locations/global/publishers/google/models/gemini-2.5-flash:generateContent \"HTTP/1.1 200 OK\"\n",
      "2025-10-10 00:49:56,640 - __main__ - INFO - [Refine] Final refined answer: When addressing API versioning, it's important to follow well-defined patterns [KB005, KB025, KB015]...\n",
      "2025-10-10 00:49:56,641 - __main__ - INFO - [END] Final state reached.\n"
     ]
    },
    {
     "name": "stdout",
     "output_type": "stream",
     "text": [
      "When addressing API versioning, it's important to follow well-defined patterns [KB005, KB025, KB015].\n"
     ]
    }
   ],
   "source": [
    "graph= build_rag_graph()\n",
    "\n",
    "question=input(\"Enter your question: \")\n",
    "\n",
    "result= graph.invoke({\"question\": question})\n",
    "\n",
    "print(result.get(\"final_answer\", result[\"answer\"]))"
   ]
  },
  {
   "cell_type": "markdown",
   "id": "8b3d5a82",
   "metadata": {},
   "source": [
    "#### 5. “What should I consider for error handling?"
   ]
  },
  {
   "cell_type": "code",
   "execution_count": 101,
   "id": "7ca1779a",
   "metadata": {},
   "outputs": [
    {
     "name": "stderr",
     "output_type": "stream",
     "text": [
      "2025-10-10 00:50:12,021 - __main__ - INFO - Retrieving snippets for question: “What should I consider for error handling?\n",
      "2025-10-10 00:50:13,007 - __main__ - INFO - [Retriever] Retrieved 5 snippets\n",
      "2025-10-10 00:50:13,008 - __main__ - INFO - [GenerateAnswer] Generating answer for: “What should I consider for error handling?\n",
      "2025-10-10 00:50:13,009 - google_genai.models - INFO - AFC is enabled with max remote calls: 10.\n",
      "2025-10-10 00:50:14,825 - httpx - INFO - HTTP Request: POST https://aiplatform.googleapis.com/v1beta1/projects/bdc-trainings/locations/global/publishers/google/models/gemini-2.5-flash:generateContent \"HTTP/1.1 200 OK\"\n",
      "2025-10-10 00:50:14,826 - __main__ - INFO - [GenerateAnswer] Generated answer: When addressing error handling, it's important to follow well-defined patterns [KB009, KB029, KB019]...\n",
      "2025-10-10 00:50:14,827 - __main__ - INFO - [Critique] Critiquing answer...\n",
      "2025-10-10 00:50:14,828 - google_genai.models - INFO - AFC is enabled with max remote calls: 10.\n",
      "2025-10-10 00:50:17,619 - httpx - INFO - HTTP Request: POST https://aiplatform.googleapis.com/v1beta1/projects/bdc-trainings/locations/global/publishers/google/models/gemini-2.5-flash:generateContent \"HTTP/1.1 200 OK\"\n",
      "2025-10-10 00:50:17,621 - __main__ - INFO - [Critique] Critique result: COMPLETE\n",
      "2025-10-10 00:50:17,622 - __main__ - INFO - [CheckCritique] Needs refinement? False\n",
      "2025-10-10 00:50:17,623 - __main__ - INFO - [END] Final state reached.\n"
     ]
    },
    {
     "name": "stdout",
     "output_type": "stream",
     "text": [
      "When addressing error handling, it's important to follow well-defined patterns [KB009, KB029, KB019].\n"
     ]
    }
   ],
   "source": [
    "graph= build_rag_graph()\n",
    "\n",
    "question=input(\"Enter your question: \")\n",
    "\n",
    "result= graph.invoke({\"question\": question})\n",
    "\n",
    "print(result.get(\"final_answer\", result[\"answer\"]))"
   ]
  },
  {
   "cell_type": "code",
   "execution_count": null,
   "id": "868b9ecf",
   "metadata": {},
   "outputs": [],
   "source": []
  }
 ],
 "metadata": {
  "kernelspec": {
   "display_name": "genai",
   "language": "python",
   "name": "python3"
  },
  "language_info": {
   "codemirror_mode": {
    "name": "ipython",
    "version": 3
   },
   "file_extension": ".py",
   "mimetype": "text/x-python",
   "name": "python",
   "nbconvert_exporter": "python",
   "pygments_lexer": "ipython3",
   "version": "3.11.13"
  }
 },
 "nbformat": 4,
 "nbformat_minor": 5
}
